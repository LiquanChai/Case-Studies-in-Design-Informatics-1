{
 "cells": [
  {
   "cell_type": "code",
   "execution_count": 323,
   "metadata": {
    "collapsed": true
   },
   "outputs": [],
   "source": [
    "import matplotlib.pyplot as plt\n",
    "import numpy as np\n",
    "import scipy.stats as stats\n",
    "\n",
    "#matplotlib.pyplot is a collection of command style functions that make matplotlib work like MATLAB. \n",
    "#Each pyplot function makes some change to a figure: e.g., creates a figure,\n",
    "#creates a plotting area in a figure, plots some lines in a plotting area, decorates the plot with labels, etc"
   ]
  },
  {
   "cell_type": "code",
   "execution_count": 377,
   "metadata": {
    "collapsed": true
   },
   "outputs": [],
   "source": [
    "#check np.random at https://docs.scipy.org/doc/numpy/reference/routines.random.html"
   ]
  },
  {
   "cell_type": "code",
   "execution_count": 389,
   "metadata": {
    "collapsed": true
   },
   "outputs": [],
   "source": [
    "#Draw random samples from a normal (Gaussian) distribution.\n",
    "\n",
    "mu, sigma = 0, 0.5 # mean and standard deviation\n",
    "sample = np.random.normal(mu, sigma, 1000)   #1000 is the size\n",
    "\n",
    "#try 1000,100,30,15"
   ]
  },
  {
   "cell_type": "code",
   "execution_count": 390,
   "metadata": {},
   "outputs": [
    {
     "data": {
      "text/plain": [
       "(-1.6889477301259923, 1.7986390502992307)"
      ]
     },
     "execution_count": 390,
     "metadata": {},
     "output_type": "execute_result"
    }
   ],
   "source": [
    "min(sample), max(sample)"
   ]
  },
  {
   "cell_type": "code",
   "execution_count": 391,
   "metadata": {},
   "outputs": [],
   "source": [
    "#import pandas as pd\n",
    "#pd.DataFrame(sample,sample)"
   ]
  },
  {
   "cell_type": "code",
   "execution_count": 392,
   "metadata": {},
   "outputs": [
    {
     "data": {
      "text/plain": [
       "numpy.ndarray"
      ]
     },
     "execution_count": 392,
     "metadata": {},
     "output_type": "execute_result"
    }
   ],
   "source": [
    "type(sample)"
   ]
  },
  {
   "cell_type": "code",
   "execution_count": 402,
   "metadata": {
    "scrolled": false
   },
   "outputs": [],
   "source": [
    "#the histogram of the data https://matplotlib.org/devdocs/api/_as_gen/matplotlib.pyplot.hist.html\n",
    "#what is bin http://www.statisticshowto.com/what-is-a-bin-in-statistics/\n",
    "count, bins, patches = plt.hist(sample, 10, normed= True, facecolor='blue')\n",
    "\n",
    "#normed: If False, the result will contain the number of samples in each bin. \n",
    "#If True, the result is the value of the probability density function at the bin, \n",
    "#normalized such that the integral over the range is 1.\n",
    "\n",
    "#patches is the individual patches used to create the histogram, e.g a collection of rectangles\n",
    "#bins: is the left hand edge of each bin"
   ]
  },
  {
   "cell_type": "code",
   "execution_count": 403,
   "metadata": {},
   "outputs": [
    {
     "data": {
      "image/png": "[encoded data removed]",
      "text/plain": [
       "<matplotlib.figure.Figure at 0x11264d6d8>"
      ]
     },
     "metadata": {},
     "output_type": "display_data"
    }
   ],
   "source": [
    "# add a 'best fit' line \n",
    "#mlab.normpdf Return the normal probability density function evaluated at x; args provides mu, sigma\n",
    "y = mlab.normpdf(bins, mu, sigma)\n",
    "l = plt.plot(bins, y, 'r--', linewidth=1)\n",
    "## 'r--' red dashes, 'bs'blue squares and 'g^'green triangles\n",
    "plt.xlabel('some random x lable')\n",
    "plt.ylabel('some random y lable')\n",
    "plt.grid(True)\n",
    "\n",
    "plt.show()\n",
    "#Display a figure. When running in ipython with its pylab mode, \n",
    "#display all figures and return to the ipython prompt.\n"
   ]
  },
  {
   "cell_type": "code",
   "execution_count": 354,
   "metadata": {
    "scrolled": true
   },
   "outputs": [],
   "source": [
    "##define range of the distribution\n"
   ]
  },
  {
   "cell_type": "code",
   "execution_count": 368,
   "metadata": {},
   "outputs": [
    {
     "data": {
      "image/png": "[encoded data removed]",
      "text/plain": [
       "<matplotlib.figure.Figure at 0x119f39208>"
      ]
     },
     "metadata": {},
     "output_type": "display_data"
    }
   ],
   "source": [
    "X1 = get_truncated_normal(mean=30, sd=10, low=10, upp=50)\n",
    "X2 = get_truncated_normal(mean=30, sd=10, low=10, upp=50)\n",
    "X3 = get_truncated_normal(mean=30, sd=10, low=10, upp=50)\n",
    "\n",
    "\n",
    "fig, ax = plt.subplots(3, sharex=True)\n",
    "ax[0].hist(X1.rvs(1000), normed=True)\n",
    "ax[1].hist(X2.rvs(100), normed=True)\n",
    "ax[2].hist(X3.rvs(30), normed=True)\n",
    "plt.show()"
   ]
  },
  {
   "cell_type": "code",
   "execution_count": 399,
   "metadata": {},
   "outputs": [
    {
     "data": {
      "text/plain": [
       "array([ 16.32815099,  48.82644298,  19.27785386,  28.59947555,\n",
       "        26.73776155,  34.25081179,  29.4976625 ,  27.19987642,\n",
       "        39.91935247,  48.21208802,  26.64904604,  31.80297892,\n",
       "        40.42963294,  29.72967638,  26.01861459,  38.88373462,\n",
       "        25.1835894 ,  38.80311987,  38.3431682 ,  40.05251991,\n",
       "        40.44122864,  35.87609349,  38.37531782,  35.58304342,\n",
       "        21.21602825,  27.80754197,  39.54263884,  36.99704103,\n",
       "        46.97071198,  37.79773929,  15.96459026,  22.08351347,\n",
       "        38.74071514,  17.22120092,  18.57056624,  37.45354613,\n",
       "        44.10490371,  30.7847061 ,  36.1204696 ,  10.66068684,\n",
       "        38.80545736,  37.76264917,  38.71795254,  30.60734599,\n",
       "        47.35276619,  22.47525921,  24.45689243,  38.02422368,\n",
       "        40.0389334 ,  30.27837204,  44.50787522,  13.99005867,\n",
       "        14.95163492,  38.17778435,  34.80875855,  39.39410186,\n",
       "        34.98252383,  34.06122823,  41.05109222,  43.86779008,\n",
       "        31.44499892,  29.27291099,  29.41359323,  16.01729168,\n",
       "        32.94927121,  41.63291358,  33.57776327,  11.33036719,\n",
       "        41.03435336,  26.72381909,  27.01288982,  27.05243444,\n",
       "        24.82096577,  17.57708303,  21.54246323,  20.26844067,\n",
       "        41.78623068,  32.43785568,  20.47321936,  25.87049318,\n",
       "        46.38313248,  23.13338669,  31.9677342 ,  23.73256005,\n",
       "        20.67165774,  36.78450799,  30.20493364,  25.8214959 ,\n",
       "        14.61622284,  40.42914831,  18.10927605,  19.57896942,\n",
       "        25.43672809,  43.11614202,  37.893332  ,  19.99201933,\n",
       "        29.26546065,  24.71975358,  43.43373161,  32.39359625,\n",
       "        24.71444036,  38.90363182,  39.33353835,  33.18741639,\n",
       "        23.95148344,  26.87087943,  35.8656915 ,  11.76567599,\n",
       "        39.05214842,  25.35297921,  20.79765734,  43.74548856,\n",
       "        19.0910344 ,  29.13210032,  12.3140651 ,  24.83546091,\n",
       "        37.6830702 ,  25.48842926,  26.58259751,  32.96769571,\n",
       "        46.08779208,  22.53073428,  17.66538511,  16.34676206,\n",
       "        18.52318267,  29.6552852 ,  12.98473399,  30.50937309,\n",
       "        10.9991541 ,  42.93146705,  27.15952589,  23.6121035 ,\n",
       "        37.54981   ,  27.59761062,  25.15181008,  25.72748077,\n",
       "        32.04879554,  33.48274212,  24.92268393,  41.1694584 ,\n",
       "        15.07451874,  30.71962052,  38.2540325 ,  14.99078115,\n",
       "        36.70189288,  22.95667389,  33.83603389,  34.19332316,\n",
       "        43.91560418,  28.2210824 ,  36.12342774,  27.10984526,\n",
       "        38.56110849,  19.0015754 ,  37.22496115,  33.77752356,\n",
       "        31.85891827,  26.41717229,  41.17644517,  30.0386973 ,\n",
       "        44.01045677,  23.22532994,  42.02999042,  38.16616755,\n",
       "        30.28555892,  20.25229857,  29.26988777,  17.05698207,\n",
       "        29.10855449,  31.28603849,  45.700391  ,  39.74039886,\n",
       "        26.8745592 ,  27.28053603,  40.39012664,  31.51573313,\n",
       "        35.77971738,  26.8794162 ,  21.21784928,  37.74835097,\n",
       "        26.6860179 ,  35.54822333,  16.76470307,  16.92631167,\n",
       "        28.32067434,  22.44600222,  28.86367451,  29.6644227 ,\n",
       "        16.31510951,  24.20848683,  22.42126966,  17.00383141,\n",
       "        45.59774958,  27.88555844,  32.44710769,  24.04868272,\n",
       "        12.32201696,  34.70961319,  31.48838195,  21.67061663,\n",
       "        32.25435632,  22.20558677,  20.01647131,  39.14333776,\n",
       "        44.82393944,  30.49005318,  12.79464869,  39.34181485,\n",
       "        22.49442312,  16.97962652,  27.162583  ,  13.84386103,\n",
       "        12.18405087,  33.8976974 ,  29.7723934 ,  33.77657199,\n",
       "        33.18506726,  34.91527148,  35.60937661,  14.1752471 ,\n",
       "        28.15448811,  23.71602709,  21.77538735,  35.6135619 ,\n",
       "        21.0284951 ,  29.88699585,  33.75206186,  38.11031393,\n",
       "        28.18497409,  38.70889939,  28.21239133,  31.35541249,\n",
       "        26.12052597,  20.37945277,  25.12966481,  21.25761331,\n",
       "        31.68190338,  32.41638194,  42.17480813,  33.16094971,\n",
       "        29.12902129,  32.91048866,  33.92766851,  28.01857715,\n",
       "        46.80244146,  34.46847457,  25.8685977 ,  22.43673949,\n",
       "        12.88166727,  29.81974045,  14.941832  ,  39.13963705,\n",
       "        27.17240237,  45.4486668 ,  19.21134548,  42.76062103,\n",
       "        21.92948335,  17.79239958,  40.39797956,  25.04159445,\n",
       "        17.36621264,  34.20201029,  29.59358343,  25.10694729,\n",
       "        34.75791477,  29.69980925,  45.95505761,  27.93613548,\n",
       "        38.99704963,  36.52477414,  22.97185699,  39.28101308,\n",
       "        31.09009563,  11.57733969,  38.70241604,  36.37861793,\n",
       "        31.81825215,  30.4855822 ,  24.78918834,  20.70898757,\n",
       "        33.94258037,  27.42822437,  44.94770753,  40.66068105,\n",
       "        25.60713216,  36.03433492,  42.49081882,  34.17490212,\n",
       "        34.2580329 ,  30.89607693,  39.26799953,  27.99199996,\n",
       "        29.4415781 ,  47.73573784,  31.09690049,  14.38656638,\n",
       "        41.00686033,  28.69278431,  26.29058763,  36.85283477,\n",
       "        11.0751226 ,  45.63188433,  29.46058611,  27.27778919,\n",
       "        31.08739834,  32.35438417,  39.84956757,  32.8126048 ,\n",
       "        26.11021832,  42.99674579,  24.3755595 ,  37.91880963,\n",
       "        44.96090676,  46.29092729,  11.51706386,  24.47888193,\n",
       "        40.18390814,  29.39092876,  28.58336918,  34.9629126 ,\n",
       "        17.36336089,  16.67694835,  46.31792279,  34.62525574,\n",
       "        37.25975405,  21.97649002,  26.55550335,  37.16645594,\n",
       "        29.19979333,  45.72037177,  32.71263507,  44.81555643,\n",
       "        35.65687654,  17.15019493,  19.3063577 ,  24.10557121,\n",
       "        46.86026922,  28.02688047,  21.52018098,  45.09174858,\n",
       "        29.15449978,  29.39753767,  27.35680602,  40.70192293,\n",
       "        30.486396  ,  34.75137653,  29.91189227,  24.9679762 ,\n",
       "        28.2705925 ,  27.55305209,  22.55115748,  41.75295187,\n",
       "        25.58245909,  37.16816224,  41.43666048,  23.40074856,\n",
       "        17.44317469,  17.70618654,  27.76047266,  33.19717796,\n",
       "        14.94051155,  42.42722004,  35.60703076,  27.83522907,\n",
       "        17.40971987,  38.96545668,  38.67565225,  25.5454509 ,\n",
       "        44.39222544,  36.63966282,  15.89021985,  28.5021094 ,\n",
       "        24.80558301,  11.06939459,  23.77586061,  25.42366149,\n",
       "        11.85425286,  28.28001328,  14.02313909,  39.21987933,\n",
       "        26.09505186,  32.77476561,  25.87639894,  33.73744765,\n",
       "        17.6207741 ,  14.51893349,  45.08609703,  38.38715797,\n",
       "        30.42590882,  46.42472591,  12.27713918,  39.24803238,\n",
       "        44.80848597,  49.9001177 ,  10.14551958,  19.26829363,\n",
       "        28.41098148,  27.21126607,  18.04713687,  39.92849267,\n",
       "        36.20424424,  36.77368203,  26.07719814,  17.52917714,\n",
       "        26.84910345,  37.74538601,  25.0894902 ,  38.16880453,\n",
       "        27.65898053,  31.61605875,  19.78823754,  44.15372256,\n",
       "        36.6219889 ,  40.12453551,  19.92101513,  26.7910383 ,\n",
       "        22.21562039,  28.7298809 ,  29.77874214,  24.21675545,\n",
       "        14.79984178,  10.49050391,  30.25831959,  34.24584638,\n",
       "        14.22849905,  17.99939849,  31.64912211,  27.30741741,\n",
       "        19.1385816 ,  30.50539966,  35.06808554,  19.86670044,\n",
       "        26.85834798,  40.4434564 ,  42.94114204,  48.80253739,\n",
       "        26.3991971 ,  37.53976636,  11.07877237,  34.80773764,\n",
       "        45.55969749,  20.37977178,  39.35976237,  24.35401133,\n",
       "        36.06452202,  31.02223947,  13.74229121,  36.82171385,\n",
       "        38.88659549,  38.83228501,  22.57029062,  31.94548303,\n",
       "        17.46559074,  18.19114539,  30.60327337,  32.50577118,\n",
       "        13.02653873,  21.23811345,  28.56703579,  26.80755266,\n",
       "        36.32685159,  19.4758478 ,  36.7885856 ,  48.800116  ,\n",
       "        22.99746451,  48.01954092,  33.19177933,  29.86383536,\n",
       "        31.48895435,  18.68954078,  48.06768595,  20.63126883,\n",
       "        22.22578321,  27.15222335,  28.52041621,  20.70686838,\n",
       "        27.05791221,  30.84162823,  23.93107863,  22.16551276,\n",
       "        26.61445796,  27.07038674,  19.25887801,  41.48603331,\n",
       "        34.43272352,  30.110561  ,  28.88999878,  14.20435487,\n",
       "        45.06387248,  31.83817318,  24.0347241 ,  32.43530666,\n",
       "        35.15102627,  31.67775436,  40.35041153,  37.65802726,\n",
       "        30.41015221,  42.633689  ,  32.86465655,  28.17882148,\n",
       "        33.01935356,  34.26583781,  34.33518861,  29.00463519,\n",
       "        35.36051132,  35.2282022 ,  21.13142011,  32.7084332 ,\n",
       "        38.14121507,  23.49641425,  13.48017543,  20.59815751,\n",
       "        28.85609061,  38.5391706 ,  30.09626167,  20.25566153,\n",
       "        27.56005157,  27.55076461,  34.71405435,  35.28519055,\n",
       "        32.10927803,  16.04649196,  49.65225496,  38.94040682,\n",
       "        30.98726292,  28.25424084,  30.22537182,  42.85384025,\n",
       "        16.8146134 ,  30.66973185,  30.44298669,  31.54098867,\n",
       "        30.51906661,  13.89984795,  25.40565337,  15.12442452,\n",
       "        28.04665731,  29.78419925,  22.88428568,  38.33278886,\n",
       "        37.67299155,  31.72825333,  25.00933342,  42.90940437,\n",
       "        31.69378709,  29.69052483,  27.8917019 ,  19.83165664,\n",
       "        35.82721897,  22.84972023,  28.53906467,  34.87688102,\n",
       "        14.53996703,  25.51597631,  41.91625009,  25.29539482,\n",
       "        30.81087208,  23.17682835,  38.74778544,  20.42229503,\n",
       "        32.72937544,  28.03212857,  48.51685318,  19.21883504,\n",
       "        34.41311947,  44.20875836,  31.02110917,  24.78070507,\n",
       "        29.95255848,  27.00031468,  16.79968416,  25.0944724 ,\n",
       "        35.3611073 ,  15.9059507 ,  43.08151439,  15.8434304 ,\n",
       "        34.93529754,  28.7840869 ,  31.64329401,  44.66012998,\n",
       "        28.6383621 ,  36.18814089,  29.41410778,  45.31066198,\n",
       "        27.77066122,  29.74196608,  49.92299055,  32.1083841 ,\n",
       "        35.46496731,  33.22271005,  34.62990439,  36.87165392,\n",
       "        17.95508339,  20.8230651 ,  26.38471939,  23.85688056,\n",
       "        11.93434918,  37.64013327,  32.41837902,  35.41793835,\n",
       "        21.64547683,  20.15237674,  17.42135215,  25.35336273,\n",
       "        33.17050372,  20.71213947,  36.5735007 ,  10.88660409,\n",
       "        43.21792538,  11.67058192,  38.26749844,  10.67274478,\n",
       "        31.39310594,  35.68984275,  11.91358341,  26.48623991,\n",
       "        46.58730248,  28.88004021,  24.52767668,  21.73382448,\n",
       "        49.55039934,  47.21864718,  27.30333317,  25.32481365,\n",
       "        12.69968516,  43.78177681,  35.64062532,  33.77114841,\n",
       "        35.88881243,  21.39386032,  35.00160105,  17.48205745,\n",
       "        19.28232195,  41.8193392 ,  34.59037357,  21.95655538,\n",
       "        36.95261898,  45.19818809,  25.42142003,  38.36459877,\n",
       "        29.33152281,  26.86948491,  17.78752438,  11.10834675,\n",
       "        39.29062755,  21.63098369,  28.44180225,  38.88225668,\n",
       "        43.95833032,  37.89796777,  21.73328484,  29.03190696,\n",
       "        45.25901402,  20.61061454,  24.41822086,  36.49866833,\n",
       "        31.6343285 ,  43.25091389,  46.94173812,  42.59873639,\n",
       "        30.13266509,  17.41457703,  24.53028514,  13.23180401,\n",
       "        27.25430524,  39.01740199,  27.73035913,  46.1081386 ,\n",
       "        39.38102906,  38.02602634,  25.90477185,  36.65327142,\n",
       "        21.0759974 ,  41.38651812,  35.227364  ,  18.79395101,\n",
       "        27.92483429,  19.09703618,  24.48068536,  45.56223487,\n",
       "        46.41359027,  37.04185327,  16.07490048,  32.50868845,\n",
       "        35.02253912,  14.82937597,  28.88294281,  20.33271825,\n",
       "        23.58535897,  40.1483157 ,  33.90674933,  34.2075728 ,\n",
       "        33.6170657 ,  38.33839594,  16.70818124,  18.36973317,\n",
       "        19.10884885,  41.30965924,  23.17185637,  29.57434738,\n",
       "        19.2436811 ,  40.63934493,  19.23839852,  24.1480521 ,\n",
       "        23.01624743,  33.02554347,  36.4346045 ,  42.01434631,\n",
       "        35.0768631 ,  49.65690672,  41.90122277,  21.83610133,\n",
       "        30.51509879,  13.86395422,  39.75017104,  39.8728096 ,\n",
       "        20.49355644,  19.53827153,  33.61811548,  25.35898749,\n",
       "        48.99116711,  12.55093851,  21.57582075,  24.07553696,\n",
       "        24.26353296,  34.11496648,  40.74415404,  26.70379076,\n",
       "        28.69398601,  19.69394756,  17.44723289,  36.23886049,\n",
       "        26.22564859,  42.52899875,  43.23712923,  46.4194497 ,\n",
       "        34.68808778,  30.72475679,  32.79185805,  28.85427311,\n",
       "        26.64990769,  20.60149948,  16.76386966,  27.82237589,\n",
       "        43.62830807,  22.09034844,  39.16894854,  15.62104563,\n",
       "        20.57008654,  34.36297268,  26.51962995,  33.65402431,\n",
       "        37.92930848,  27.25228044,  34.95464832,  25.75473446,\n",
       "        24.57540353,  28.24255576,  17.88959383,  19.65683017,\n",
       "        37.44121779,  33.97933106,  44.30768552,  22.94658577,\n",
       "        36.34697541,  41.42707661,  35.89246467,  32.60609444,\n",
       "        21.44896373,  35.39784277,  25.05656871,  13.3324844 ,\n",
       "        13.10320023,  22.30428498,  42.83134366,  37.69332358,\n",
       "        27.85821883,  19.61969921,  34.31327523,  35.35906245,\n",
       "        28.01833301,  30.3379076 ,  40.29813028,  34.28110619,\n",
       "        32.17979522,  39.56653628,  37.90646341,  17.29979976,\n",
       "        17.34133459,  23.48714768,  37.29302825,  46.96109447,\n",
       "        33.69646688,  27.79269021,  33.75875353,  26.65373859,\n",
       "        28.14790465,  42.7674036 ,  40.37402006,  10.01623503,\n",
       "        34.11409199,  38.69721961,  47.63984745,  40.74508019,\n",
       "        47.10135347,  29.07826047,  29.95819745,  25.82994217,\n",
       "        42.81527852,  25.25022722,  27.96355433,  25.40527743,\n",
       "        31.59831952,  38.83287454,  40.16419062,  29.32959378,\n",
       "        37.61596608,  26.13612169,  41.31628727,  21.19302954,\n",
       "        35.36448598,  25.88592578,  44.19011157,  16.3841277 ,\n",
       "        14.13715877,  39.57527974,  49.4133691 ,  24.9243043 ,\n",
       "        46.10293967,  32.22390671,  41.0953976 ,  12.46029383,\n",
       "        37.11347487,  22.26184368,  27.47804244,  35.15767209,\n",
       "        29.52887758,  40.75164919,  18.45309478,  45.26730481,\n",
       "        26.93193825,  28.98447887,  29.02687026,  34.31434002,\n",
       "        34.32420331,  45.86149933,  30.83175009,  27.01832733,\n",
       "        14.10010368,  38.0544897 ,  26.82815058,  44.67785694,\n",
       "        33.8599327 ,  31.04879698,  21.59329281,  37.14944675,\n",
       "        49.54095868,  40.05848108,  26.97445326,  25.5609632 ,\n",
       "        31.07657671,  25.82791874,  29.17861182,  31.5597503 ,\n",
       "        35.19732979,  29.6857437 ,  47.76180618,  44.97742356,\n",
       "        23.94982741,  44.82135444,  23.90425675,  34.67682459,\n",
       "        22.94600077,  30.71184352,  22.04403132,  25.54510941,\n",
       "        28.89871934,  42.85394848,  15.33699687,  23.61273908,\n",
       "        26.34674368,  28.68505178,  31.93289981,  30.43393984,\n",
       "        37.23492117,  38.71241803,  24.56856587,  36.95896829,\n",
       "        38.35912342,  25.88212237,  29.35472931,  29.78103848,\n",
       "        42.53405879,  27.9919675 ,  35.71865767,  35.65570661,\n",
       "        30.09471412,  25.66541831,  34.89341657,  28.61359115,\n",
       "        47.07683701,  37.96798099,  31.03107766,  18.56469403,\n",
       "        43.03546229,  22.71204361,  29.28601541,  34.14473391,\n",
       "        32.56698897,  42.97374136,  10.56945093,  32.30978134,\n",
       "        35.00794094,  36.28365184,  31.87730734,  27.08756004,\n",
       "        30.51611019,  39.2951241 ,  21.7648001 ,  37.20190172,\n",
       "        43.4511764 ,  41.72235375,  42.16113009,  18.5197549 ,\n",
       "        12.98151883,  29.01269181,  18.60187321,  27.19576249,\n",
       "        42.36365671,  18.54794928,  20.96242341,  31.4538755 ,\n",
       "        21.59478877,  31.56404935,  32.06503377,  12.06017464,\n",
       "        34.64045509,  34.19988007,  31.09338142,  28.11660325,\n",
       "        23.26239391,  29.75010378,  35.3183349 ,  20.626414  ,\n",
       "        31.21297766,  37.49771438,  16.10711326,  24.33147527,\n",
       "        45.19574413,  22.38998215,  26.19493834,  31.78543538,\n",
       "        21.0558181 ,  21.61753786,  41.14803339,  24.13612693,\n",
       "        24.2371887 ,  15.94912914,  27.27761921,  21.15038066,\n",
       "        38.30187171,  37.02829543,  41.92667218,  20.15191164,\n",
       "        28.56172788,  30.80864593,  13.25462313,  30.07209115,\n",
       "        13.60462553,  39.51039099,  31.43026822,  29.40999734,\n",
       "        23.97199472,  23.87329421,  26.22234868,  40.4924457 ,\n",
       "        25.33794546,  40.23299062,  16.83884394,  38.07509583,\n",
       "        42.60651068,  41.57252851,  30.54602435,  38.68246327,\n",
       "        43.69870325,  19.70706836,  14.72567677,  47.48164835,\n",
       "        20.22606803,  38.49376929,  37.38182388,  29.5703928 ,\n",
       "        17.16977403,  26.31665824,  13.27897397,  24.50039021,\n",
       "        10.23616   ,  31.98486443,  28.55468174,  27.73209023])"
      ]
     },
     "execution_count": 399,
     "metadata": {},
     "output_type": "execute_result"
    }
   ],
   "source": [
    "X2.rvs(1000)"
   ]
  },
  {
   "cell_type": "code",
   "execution_count": 405,
   "metadata": {},
   "outputs": [
    {
     "data": {
      "image/png": "[encoded data removed]",
      "text/plain": [
       "<matplotlib.figure.Figure at 0x119ac7438>"
      ]
     },
     "metadata": {},
     "output_type": "display_data"
    }
   ],
   "source": [
    "mu, sigma = 100, 15 # mean and standard deviation\n",
    "x = mu + sigma*np.random.randn(10000) #Return a sample (or samples) from the “standard normal” distribution.\n",
    "\n",
    "# the histogram of the data\n",
    "n, bins, patches = plt.hist(x, 50, normed=1, facecolor='green', alpha=0.8)  #alpha = transparency \n",
    "\n",
    "# add a 'best fit' line\n",
    "y = mlab.normpdf( bins, mu, sigma)\n",
    "l = plt.plot(bins, y, 'r--', linewidth=1)\n",
    "\n",
    "plt.xlabel('Smarts')\n",
    "plt.ylabel('Probability')\n",
    "plt.title(r'$\\mathrm{Histogram\\ of\\ IQ:}\\ \\mu=100,\\ \\sigma=15$')\n",
    "plt.axis([40, 160, 0, 0.03])\n",
    "plt.grid(True)\n",
    "\n",
    "plt.show()"
   ]
  },
  {
   "cell_type": "code",
   "execution_count": 82,
   "metadata": {
    "collapsed": true
   },
   "outputs": [],
   "source": [
    "from pylab import *\n",
    "#pylab is a module that gets installed alongside matplotlib \n",
    "from scipy.optimize import curve_fit\n",
    "#Use non-linear least squares to fit a function, f, to data.\n"
   ]
  },
  {
   "cell_type": "code",
   "execution_count": 300,
   "metadata": {},
   "outputs": [
    {
     "data": {
      "text/plain": [
       "array([ 1.18830114,  0.9293785 ,  1.52395547, ...,  0.80885621,\n",
       "        0.81112072,  0.75454454])"
      ]
     },
     "execution_count": 300,
     "metadata": {},
     "output_type": "execute_result"
    }
   ],
   "source": [
    "np.random.normal(1,.2,5000)"
   ]
  },
  {
   "cell_type": "code",
   "execution_count": 301,
   "metadata": {},
   "outputs": [
    {
     "data": {
      "text/plain": [
       "array([ 1.43478606,  0.97983565,  0.59802919, ...,  2.25139285,\n",
       "        1.87552829,  2.03962851])"
      ]
     },
     "execution_count": 301,
     "metadata": {},
     "output_type": "execute_result"
    }
   ],
   "source": [
    "data=concatenate((np.random.normal(1,.2,5000),np.random.normal(2,.2,2500)))  #joining \n",
    "data"
   ]
  },
  {
   "cell_type": "code",
   "execution_count": 302,
   "metadata": {},
   "outputs": [
    {
     "data": {
      "image/png": "[encoded data removed]",
      "text/plain": [
       "<matplotlib.figure.Figure at 0x119fb89b0>"
      ]
     },
     "metadata": {},
     "output_type": "display_data"
    }
   ],
   "source": [
    "y,x,_=hist(data,100,alpha=.3,label='data')\n",
    "\n",
    "plt.xlabel('some random x lable')\n",
    "plt.ylabel('some random y lable')\n",
    "plt.title('some random bimodal')\n",
    "#add the best fit line\n",
    "plt.plot(x,bimodal(x,*params),color='red',lw=3)\n",
    "plt.show()\n"
   ]
  },
  {
   "cell_type": "code",
   "execution_count": 264,
   "metadata": {
    "collapsed": true
   },
   "outputs": [],
   "source": [
    "##another example\n",
    "\n",
    "sample = np.random.normal(mu, sigma, 1000)"
   ]
  },
  {
   "cell_type": "code",
   "execution_count": 265,
   "metadata": {
    "collapsed": true
   },
   "outputs": [],
   "source": [
    "sample2 = np.random.normal(mu, sigma, 1000)"
   ]
  },
  {
   "cell_type": "code",
   "execution_count": 297,
   "metadata": {},
   "outputs": [],
   "source": [
    "data=concatenate((sample,sample2))    "
   ]
  },
  {
   "cell_type": "code",
   "execution_count": 298,
   "metadata": {},
   "outputs": [
    {
     "data": {
      "image/png": "[encoded data removed]",
      "text/plain": [
       "<matplotlib.figure.Figure at 0x11218f518>"
      ]
     },
     "metadata": {},
     "output_type": "display_data"
    }
   ],
   "source": [
    "y,x,_=hist(data,100,alpha=.3,label='data')\n",
    "\n",
    "plt.xlabel('some random x lable')\n",
    "plt.ylabel('some random y lable')\n",
    "plt.title('some random bimodal')\n",
    "#add the best fit line\n",
    "plt.plot(x,bimodal(x,*params),color='red',lw=3)\n",
    "plt.show()\n"
   ]
  },
  {
   "cell_type": "code",
   "execution_count": null,
   "metadata": {
    "collapsed": true
   },
   "outputs": [],
   "source": []
  }
 ],
 "metadata": {
  "kernelspec": {
   "display_name": "Python 3",
   "language": "python",
   "name": "python3"
  },
  "language_info": {
   "codemirror_mode": {
    "name": "ipython",
    "version": 3
   },
   "file_extension": ".py",
   "mimetype": "text/x-python",
   "name": "python",
   "nbconvert_exporter": "python",
   "pygments_lexer": "ipython3",
   "version": "3.6.1"
  }
 },
 "nbformat": 4,
 "nbformat_minor": 2
}
